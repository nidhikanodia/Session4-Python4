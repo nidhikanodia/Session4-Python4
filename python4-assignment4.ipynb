{
 "cells": [
  {
   "cell_type": "code",
   "execution_count": 14,
   "metadata": {},
   "outputs": [
    {
     "name": "stdout",
     "output_type": "stream",
     "text": [
      "Enter the side 1 for triangle: 5\n",
      "Enter the side 2 for triangle: 7\n",
      "Enter the side 3 for triangle: 8\n",
      "Area of the triangle is: 17.320508075688775\n"
     ]
    }
   ],
   "source": [
    "#Question 1.1\n",
    "#A Python Program(with class concepts) to find the area of the triangle\n",
    "\n",
    "#Base class having the function to input the sides of a triangle from the user\n",
    "class Triangle():\n",
    "    #Constructor to initialize the default values for sides of triangle to None\n",
    "    def __init__(self, a = None, b = None, c = None):\n",
    "        self.a = a\n",
    "        self.b = b\n",
    "        self.c = c  \n",
    "    \n",
    "    #Function to input the sides of a triangle from the user\n",
    "    def inputsides(self):\n",
    "        self.a = float(input(\"Enter the side 1 for triangle: \"))\n",
    "        self.b = float(input(\"Enter the side 2 for triangle: \"))\n",
    "        self.c = float(input(\"Enter the side 3 for triangle: \"))\n",
    "\n",
    "#Super class having the method to calculate the area of a triangle\n",
    "class SuperTriangle(Triangle):\n",
    "    #Constructor for super class which calls the base class constructor\n",
    "    def __init__(self, *args,**kwargs):\n",
    "        super(Triangle, self).__init__(*args,**kwargs)\n",
    "        \n",
    "    #Function to calculate the area of a triangle\n",
    "    def area(self):\n",
    "        #Calculate the value of s which is half of the perimeter\n",
    "        s = (self.a + self.b + self.c)/2\n",
    "                \n",
    "        #Calculate the area of the triangle using formula\n",
    "        area = (s*(s-self.a)*(s-self.b)*(s-self.c)) ** 0.5\n",
    "        \n",
    "        #Print the area of the triangle\n",
    "        print(\"Area of the triangle is:\", area)\n",
    "\n",
    "#Usage of the Super class to calcualte the area of the triangle\n",
    "#Initialize the object with Super Class\n",
    "t1 = SuperTriangle()\n",
    "#Call the function in Base Class to input the sides of the triangle\n",
    "t1.inputsides()\n",
    "#Call the function in Super Class to calculate the area of the triangle\n",
    "t1.area()\n"
   ]
  },
  {
   "cell_type": "code",
   "execution_count": 24,
   "metadata": {},
   "outputs": [
    {
     "name": "stdout",
     "output_type": "stream",
     "text": [
      "The list of words that are longer than 2 ['your', 'her', 'there']\n"
     ]
    }
   ],
   "source": [
    "#Question 1.2\n",
    "#A function filter_long_words() that takes a list of words and an integer n and returns the list of words that are longer than n\n",
    "\n",
    "#User defined function 'filter_long_words' which takes parameters as:\n",
    "#list: The list of words that need to be filtered\n",
    "#n: The reference length to be used to filter the words\n",
    "\n",
    "def filter_long_words(list, n):\n",
    "    #Initialize the empty result list\n",
    "    result = []\n",
    "    #Iterate through each word in the list\n",
    "    for word in list:\n",
    "        #Check if the length of the word is longer than given length\n",
    "        if len(word) > n:\n",
    "            #If length is longer, add the word to result list\n",
    "            result.append(word)\n",
    "    #Return the result list\n",
    "    return result\n",
    "\n",
    "#Usage of filter_long_words function\n",
    "#Initialize the list of words to be filtered\n",
    "list1 = ('I', 'a', 'am', 'your', 'her', 'there', 'to')\n",
    "#Define the reference length\n",
    "n= 2\n",
    "#Call the filter_long_words function on list1\n",
    "output = filter_long_words(list1, n)\n",
    "#Print the filtered list of words\n",
    "print(\"The list of words that are longer than\", n, output)"
   ]
  },
  {
   "cell_type": "code",
   "execution_count": 26,
   "metadata": {},
   "outputs": [
    {
     "name": "stdout",
     "output_type": "stream",
     "text": [
      "The list of integers representing the lengths of the corresponding words [1, 1, 2, 4, 3, 5, 2]\n"
     ]
    }
   ],
   "source": [
    "#Question 2.1\n",
    "\n",
    "#A Python program using function concept that maps list of words into a list of integers representing the lengths of the corresponding words\n",
    "\n",
    "#User defined function 'map_to_integer' which takes parameters as:\n",
    "#list: The list of words that need to be mapped to integer\n",
    "\n",
    "def map_to_integer(list):\n",
    "    #Initialize the empty result list\n",
    "    result = []\n",
    "    #Iterate through each word in the list\n",
    "    for word in list:\n",
    "        #Map the length of the word to be represented as integer\n",
    "        result.append(len(word))\n",
    "        \n",
    "    #Return the result list\n",
    "    return result\n",
    "\n",
    "#Usage of map_to_integer function\n",
    "#Initialize the list of words to be mapped to integer\n",
    "list1 = ('I', 'a', 'am', 'your', 'her', 'there', 'to')\n",
    "#Call the map_to_integer function on list1\n",
    "output = map_to_integer(list1)\n",
    "#Print the list of integers representing the lengths of corresponding words\n",
    "print(\"The list of integers representing the lengths of the corresponding words\", output)"
   ]
  },
  {
   "cell_type": "code",
   "execution_count": 31,
   "metadata": {},
   "outputs": [
    {
     "name": "stdout",
     "output_type": "stream",
     "text": [
      "e is vowel: True\n",
      "y is vowel: False\n"
     ]
    }
   ],
   "source": [
    "#Question 2.2\n",
    "\n",
    "#A Python function which takes a character (i.e. a string of length 1) and returns True if it is a vowel, False otherwise\n",
    "\n",
    "#User defined function 'isvowel' which takes parameters as:\n",
    "#char: A character that needs to be checked if it's a vowel or not\n",
    "\n",
    "def isvowel(char):\n",
    "    #Initialize the list of vowels\n",
    "    vowels = ['a','e','i','o','u']\n",
    "    #Count the occurrence of the input character in vowels\n",
    "    count = vowels.count(char)\n",
    "    #If the count is greater than 0, return True otherwise False\n",
    "    if count > 0:\n",
    "        return True\n",
    "    else:\n",
    "        return False\n",
    "\n",
    "#Usage of isvowel function\n",
    "#Initialize the characters to be checked\n",
    "char1 = 'e'\n",
    "char2 = 'y'\n",
    "#Call the isvowel function to check if the character is vowel or not\n",
    "bvalue1 = isvowel(char1)\n",
    "bvalue2 = isvowel(char2)\n",
    "#Print the results if the character is vowel or not (True/False)\n",
    "print(char1 + \" is vowel: \" + str(bvalue1))\n",
    "print(char2 + \" is vowel: \" + str(bvalue2))"
   ]
  },
  {
   "cell_type": "code",
   "execution_count": null,
   "metadata": {},
   "outputs": [],
   "source": []
  }
 ],
 "metadata": {
  "kernelspec": {
   "display_name": "Python 3",
   "language": "python",
   "name": "python3"
  },
  "language_info": {
   "codemirror_mode": {
    "name": "ipython",
    "version": 3
   },
   "file_extension": ".py",
   "mimetype": "text/x-python",
   "name": "python",
   "nbconvert_exporter": "python",
   "pygments_lexer": "ipython3",
   "version": "3.7.0"
  }
 },
 "nbformat": 4,
 "nbformat_minor": 2
}
